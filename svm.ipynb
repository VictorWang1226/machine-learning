{
 "cells": [
  {
   "cell_type": "markdown",
   "metadata": {
    "colab_type": "text",
    "id": "view-in-github"
   },
   "source": [
    "<a href=\"https://colab.research.google.com/github/ciolh007/machine-learning/blob/master/svm.ipynb\" target=\"_parent\"><img src=\"https://colab.research.google.com/assets/colab-badge.svg\" alt=\"Open In Colab\"/></a>"
   ]
  },
  {
   "cell_type": "code",
   "execution_count": 0,
   "metadata": {
    "colab": {},
    "colab_type": "code",
    "id": "HrROjTl283pu"
   },
   "outputs": [],
   "source": [
    "import numpy as np\n",
    "import matplotlib.pyplot as plt\n",
    "\n",
    "from sklearn.model_selection import train_test_split\n",
    "from sklearn.svm import SVC\n",
    "\n",
    "import math\n",
    "import random"
   ]
  },
  {
   "cell_type": "code",
   "execution_count": 0,
   "metadata": {
    "colab": {},
    "colab_type": "code",
    "id": "iTVXhFVp-XgO"
   },
   "outputs": [],
   "source": [
    "def createDataSet( features, evalFunc, N, err ):\n",
    "  nFeatures = len( features )\n",
    "  X = np.zeros( (N, nFeatures ) )\n",
    "  Y = np.zeros( N )\n",
    "  for i in range(N):\n",
    "    for j in range( nFeatures ):\n",
    "      min, max = features[j]\n",
    "      val = random.random() * (max - min ) + min\n",
    "      X[i][j] = val\n",
    "    Y[i] = evalFunc( X[i], err )\n",
    "  return X,Y"
   ]
  },
  {
   "cell_type": "code",
   "execution_count": 0,
   "metadata": {
    "colab": {},
    "colab_type": "code",
    "id": "0hoXIaT8Ap-e"
   },
   "outputs": [],
   "source": [
    "def problem1( instance, errPercentage = 0.0 ):\n",
    "  line = np.array( [ 1 - 0, 1.3 - 0.5 ] )\n",
    "  lineP = np.array( [ - line[1], line[0] ] )\n",
    "  d = instance.dot( lineP )\n",
    "  #print(d)\n",
    "  if ( random.random() < errPercentage ):\n",
    "    d = -d\n",
    "  return d > 0.0"
   ]
  },
  {
   "cell_type": "code",
   "execution_count": 0,
   "metadata": {
    "colab": {},
    "colab_type": "code",
    "id": "CC95v3oE__Vi"
   },
   "outputs": [],
   "source": [
    "X,Y = createDataSet( [ [0, 1],  [ 0, 1] ], problem1, 40, 0.1 )\n",
    "print( X,Y )"
   ]
  },
  {
   "cell_type": "code",
   "execution_count": 0,
   "metadata": {
    "colab": {},
    "colab_type": "code",
    "id": "bOoWJPIWHAz6"
   },
   "outputs": [],
   "source": [
    "X_train, X_test, y_train, y_test = train_test_split(X, Y, test_size=0.2, random_state=1)"
   ]
  },
  {
   "cell_type": "code",
   "execution_count": 0,
   "metadata": {
    "colab": {},
    "colab_type": "code",
    "id": "0dxWceyzB_eR"
   },
   "outputs": [],
   "source": [
    "clf = SVC( gamma=0.01, C=10000, kernel='linear' )"
   ]
  },
  {
   "cell_type": "code",
   "execution_count": 0,
   "metadata": {
    "colab": {},
    "colab_type": "code",
    "id": "0INwH-fRDxPu"
   },
   "outputs": [],
   "source": [
    "clf.fit(X_train, y_train)"
   ]
  },
  {
   "cell_type": "code",
   "execution_count": 0,
   "metadata": {
    "colab": {},
    "colab_type": "code",
    "id": "109kTZJrFpAb"
   },
   "outputs": [],
   "source": [
    "print( 'Validation Error',  sum( ( clf.predict(X_test) - y_test ) ** 2 ) / len(X_test), 'Training Error', sum( ( clf.predict(X_train) - y_train ) ** 2 ) / len(X_train) )"
   ]
  },
  {
   "cell_type": "code",
   "execution_count": 0,
   "metadata": {
    "colab": {},
    "colab_type": "code",
    "id": "v_6BcDH6EECz"
   },
   "outputs": [],
   "source": [
    "def make_meshgrid(x, y, h=.02):\n",
    "    \"\"\"Create a mesh of points to plot in\n",
    "\n",
    "    Parameters\n",
    "    ----------\n",
    "    x: data to base x-axis meshgrid on\n",
    "    y: data to base y-axis meshgrid on\n",
    "    h: stepsize for meshgrid, optional\n",
    "\n",
    "    Returns\n",
    "    -------\n",
    "    xx, yy : ndarray\n",
    "    \"\"\"\n",
    "    x_min, x_max = x.min() - 1, x.max() + 1\n",
    "    y_min, y_max = y.min() - 1, y.max() + 1\n",
    "    xx, yy = np.meshgrid(np.arange(x_min, x_max, h),\n",
    "                         np.arange(y_min, y_max, h))\n",
    "    return xx, yy\n",
    "\n",
    "\n",
    "def plot_contours(ax, clf, xx, yy, **params):\n",
    "    \"\"\"Plot the decision boundaries for a classifier.\n",
    "\n",
    "    Parameters\n",
    "    ----------\n",
    "    ax: matplotlib axes object\n",
    "    clf: a classifier\n",
    "    xx: meshgrid ndarray\n",
    "    yy: meshgrid ndarray\n",
    "    params: dictionary of params to pass to contourf, optional\n",
    "    \"\"\"\n",
    "    Z = clf.predict(np.c_[xx.ravel(), yy.ravel()])\n",
    "    Z = Z.reshape(xx.shape)\n",
    "    out = ax.contourf(xx, yy, Z, **params)\n",
    "    return out"
   ]
  },
  {
   "cell_type": "code",
   "execution_count": 0,
   "metadata": {
    "colab": {},
    "colab_type": "code",
    "id": "VvIS1PbBE6CG"
   },
   "outputs": [],
   "source": [
    "def plotSVM( ax, clf, X_train, y_train, X_test, y_test ):\n",
    "  X = np.vstack( ( X_train, X_test ) )\n",
    "  X0, X1 = X[:,0], X[:, 1]\n",
    "  xx, yy = make_meshgrid(X0, X1)\n",
    "  plot_contours(ax, clf, xx, yy,\n",
    "                  cmap=plt.cm.coolwarm, alpha=0.8)\n",
    "  ax.scatter(X_train[:,0], X_train[:,1], c=y_train, cmap=plt.cm.coolwarm, s=40, edgecolors='k')\n",
    "  ax.scatter(X_test[:,0], X_test[:,1], c=y_test, cmap=plt.cm.coolwarm, s=100, edgecolors='y')\n",
    "\n",
    "  ax.set_xlim(xx.min(), xx.max())\n",
    "  ax.set_ylim(yy.min(), yy.max())\n"
   ]
  },
  {
   "cell_type": "code",
   "execution_count": 0,
   "metadata": {
    "colab": {},
    "colab_type": "code",
    "id": "pikVrgKYEryi"
   },
   "outputs": [],
   "source": [
    "fig = plt.figure()\n",
    "ax = fig.add_subplot(1,1,1)\n",
    "\n",
    "plotSVM( ax, clf, X_train, y_train, X_test, y_test )\n",
    "    "
   ]
  },
  {
   "cell_type": "code",
   "execution_count": 0,
   "metadata": {
    "colab": {},
    "colab_type": "code",
    "id": "6kSD7MO5FBp6"
   },
   "outputs": [],
   "source": [
    "clf = SVC( gamma=0.001, C=1.0e32, kernel='poly', degree = 3 )"
   ]
  },
  {
   "cell_type": "code",
   "execution_count": 0,
   "metadata": {
    "colab": {},
    "colab_type": "code",
    "id": "94W-OBGhKaIb"
   },
   "outputs": [],
   "source": [
    "clf.fit(X_train, y_train)"
   ]
  },
  {
   "cell_type": "code",
   "execution_count": 0,
   "metadata": {
    "colab": {},
    "colab_type": "code",
    "id": "-r34WxKzKgFV"
   },
   "outputs": [],
   "source": [
    "print( 'Validation Error',  sum( ( clf.predict(X_test) - y_test ) ** 2 ) / len(X_test), 'Training Error', sum( ( clf.predict(X_train) - y_train) ** 2 ) / len(X_train) )"
   ]
  },
  {
   "cell_type": "code",
   "execution_count": 0,
   "metadata": {
    "colab": {},
    "colab_type": "code",
    "id": "gocZtIGyKgl2"
   },
   "outputs": [],
   "source": [
    "fig = plt.figure()\n",
    "ax = fig.add_subplot(1,1,1)\n",
    "\n",
    "plotSVM( ax, clf, X_train, y_train, X_test, y_test )\n"
   ]
  },
  {
   "cell_type": "code",
   "execution_count": 0,
   "metadata": {
    "colab": {},
    "colab_type": "code",
    "id": "cTUS8EWEM6Xt"
   },
   "outputs": [],
   "source": [
    "fig"
   ]
  }
 ],
 "metadata": {
  "colab": {
   "collapsed_sections": [],
   "include_colab_link": true,
   "name": "svm.ipynb",
   "provenance": [],
   "version": "0.3.2"
  },
  "kernelspec": {
   "display_name": "Python 3",
   "name": "python3"
  }
 },
 "nbformat": 4,
 "nbformat_minor": 0
}
